{
 "cells": [
  {
   "cell_type": "raw",
   "id": "b6cc171c",
   "metadata": {},
   "source": [
    "Q1. What is the relationship between classes and modules?\n",
    "ans- The difference between a class and a module in python is that a class is used to define a blueprint for a given object, whereas a module is used to reuse a given piece of code inside another program."
   ]
  },
  {
   "cell_type": "raw",
   "id": "0dd50705",
   "metadata": {},
   "source": [
    "Q2. How do you make instances and classes?\n",
    "ans- Call ClassName() to create a new instance of the class ClassName . To pass parameters to the class instance, the class must have an __init__() method. Pass the parameters in the constructor of the class.and for creating class we use class keyword."
   ]
  },
  {
   "cell_type": "raw",
   "id": "af4a50a6",
   "metadata": {},
   "source": [
    "Q3. Where and how should be class attributes created?\n",
    "ans-A Python class attribute is an attribute of the class (circular, I know), rather than an attribute of an instance of a class. \n",
    "class MyClass(object):\n",
    "    class_var = 1\n",
    "\n",
    "    def __init__(self, i_var):\n",
    "        self.i_var = i_var\n",
    "         Here, class_var is a class attribute, and i_var is an instance attribute:"
   ]
  },
  {
   "cell_type": "raw",
   "id": "2ee3c6a3",
   "metadata": {},
   "source": [
    "Q4. Where and how are instance attributes created?\n",
    "ans- Unlike class attributes, instance attributes are not shared by objects. Every object has its own copy of the instance attribute.\n",
    "class emp:\n",
    "    def __init__(self):\n",
    "        self.name = 'xyz'\n",
    "        self.salary = 4000\n",
    "  \n",
    "    def show(self):\n",
    "        print(self.name)\n",
    "        print(self.salary)\n",
    "  \n",
    "e1 = emp()\n",
    "print(\"Dictionary form :\", vars(e1))\n",
    "print(dir(e1))"
   ]
  },
  {
   "cell_type": "raw",
   "id": "c2f20617",
   "metadata": {},
   "source": [
    "Q5.Q5. What does the term \"self\" in a Python class mean?\n",
    "ans- self represents the instance of the class. By using the “self” keyword we can access the attributes and methods of the class in python. It binds the attributes with the given arguments."
   ]
  },
  {
   "cell_type": "raw",
   "id": "a3ac6a94",
   "metadata": {},
   "source": [
    "Q6. How does a Python class handle operator overloading?\n",
    "ans- To perform operator overloading, Python provides some special function or magic function that is automatically invoked when it is associated with that particular operator. For example, when we use + operator, the magic method __add__ is automatically invoked in which the operation for + operator is defined."
   ]
  },
  {
   "cell_type": "raw",
   "id": "69ac08ea",
   "metadata": {},
   "source": [
    "Q7. When do you consider allowing operator overloading of your classes?\n",
    "It allows you to provide an intuitive interface to users of your class, plus makes it possible for templates to work equally well with classes and built-in/intrinsic types. Operator overloading allows C/C++ operators to have user-defined meanings on user-defined types (classes)."
   ]
  },
  {
   "cell_type": "raw",
   "id": "ea926f31",
   "metadata": {},
   "source": [
    "Q8. What is the most popular form of operator overloading?\n",
    "ans- A very popular and convenient example is the Addition (+) operator. Just think how the '+' operator operates on two numbers and the same operator operates on two strings. It performs “Addition” on numbers whereas it performs “Concatenation” on strings"
   ]
  },
  {
   "cell_type": "code",
   "execution_count": null,
   "id": "f57b8049",
   "metadata": {},
   "outputs": [],
   "source": [
    "Q9. What are the two most important concepts to grasp in order to comprehend Python OOP code?\n",
    "ans-  inheritance and polymorphism."
   ]
  }
 ],
 "metadata": {
  "kernelspec": {
   "display_name": "Python 3 (ipykernel)",
   "language": "python",
   "name": "python3"
  },
  "language_info": {
   "codemirror_mode": {
    "name": "ipython",
    "version": 3
   },
   "file_extension": ".py",
   "mimetype": "text/x-python",
   "name": "python",
   "nbconvert_exporter": "python",
   "pygments_lexer": "ipython3",
   "version": "3.9.7"
  }
 },
 "nbformat": 4,
 "nbformat_minor": 5
}
